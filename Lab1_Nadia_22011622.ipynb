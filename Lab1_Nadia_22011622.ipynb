{
  "nbformat": 4,
  "nbformat_minor": 0,
  "metadata": {
    "colab": {
      "provenance": [],
      "authorship_tag": "ABX9TyNf8uoam34uW8YwB+h/KR6m",
      "include_colab_link": true
    },
    "kernelspec": {
      "name": "python3",
      "display_name": "Python 3"
    },
    "language_info": {
      "name": "python"
    }
  },
  "cells": [
    {
      "cell_type": "markdown",
      "metadata": {
        "id": "view-in-github",
        "colab_type": "text"
      },
      "source": [
        "<a href=\"https://colab.research.google.com/github/nadiazulkufli/JavaProject/blob/master/Lab1_Nadia_22011622.ipynb\" target=\"_parent\"><img src=\"https://colab.research.google.com/assets/colab-badge.svg\" alt=\"Open In Colab\"/></a>"
      ]
    },
    {
      "cell_type": "code",
      "execution_count": null,
      "metadata": {
        "colab": {
          "base_uri": "https://localhost:8080/"
        },
        "id": "EDSWHhfFYTF4",
        "outputId": "1fc5200a-c447-41f9-fc21-64543f1bef3e"
      },
      "outputs": [
        {
          "output_type": "stream",
          "name": "stdout",
          "text": [
            "Path from A to G: ['A', 'D', 'G']\n"
          ]
        }
      ],
      "source": [
        "import collections\n",
        "\n",
        "graph = {\n",
        "    'A': ['B','D','F'],\n",
        "    'B': ['A','C'],\n",
        "    'C': ['B','D','E','H'],\n",
        "    'D': ['A','I','C','G'],\n",
        "    'E': ['C'],\n",
        "    'F': ['A'],\n",
        "    'G': ['H', 'C'],\n",
        "    'H': ['C', 'G'],\n",
        "    'I': ['D'],\n",
        "}\n",
        "\n",
        "def bfs(graph, start, end):\n",
        "  queue = collections.deque([[start]])\n",
        "  visited = {start}\n",
        "\n",
        "  while queue:\n",
        "    path = queue.popleft()\n",
        "    node = path[-1]\n",
        "\n",
        "    if node == end:\n",
        "      return path\n",
        "\n",
        "    for neighbor in graph.get(node, []):\n",
        "      if neighbor not in visited:\n",
        "        new_path = list(path)\n",
        "        new_path.append(neighbor)\n",
        "        queue.append(new_path)\n",
        "        visited.add(neighbor)\n",
        "\n",
        "  return None\n",
        "\n",
        "start_node ='A'\n",
        "end_node = 'G'\n",
        "path = bfs(graph, start_node, end_node)\n",
        "\n",
        "print(f\"Path from {start_node} to {end_node}: {path}\")\n"
      ]
    },
    {
      "cell_type": "code",
      "source": [
        "import collections\n",
        "\n",
        "maze = [\n",
        "    ['S', '.', '.', '#', 'G'],\n",
        "    ['#', '#', '.', '#', '.'],\n",
        "    ['.', '.', '.', '.', '.'],\n",
        "    ['.', '#', '#', '#', '.'],\n",
        "    ['.', '.', '.', '.', '.']\n",
        "]\n",
        "\n",
        "def bfs_maze(maze):\n",
        "  rows, cols = len(maze), len(maze[0])\n",
        "  directions = [(0,1),(1,0),(0,-1),(-1,0)]\n",
        "\n",
        "  start = goal = None\n",
        "  for r in range(rows):\n",
        "    for c in range(cols):\n",
        "      if maze[r][c] == 'S':\n",
        "        start = (r,c)\n",
        "      elif maze[r][c] == 'G':\n",
        "        goal = (r,c)\n",
        "\n",
        "  queue = collections.deque([start])\n",
        "  parent = {start: None}\n",
        "\n",
        "  while queue:\n",
        "    r, c = queue.popleft()\n",
        "    if (r, c) == goal:\n",
        "      path = []\n",
        "      node = goal\n",
        "      while node is not None:\n",
        "        path.append(node)\n",
        "        node = parent[node]\n",
        "      path.reverse()\n",
        "      return path\n",
        "\n",
        "    for dr, dc in directions:\n",
        "      nr, nc = r+dr, c+dc\n",
        "      if 0 <= nr < rows and 0 <= nc < cols and maze[nr][nc] != '#':\n",
        "        if (nr, nc) not in parent:\n",
        "          parent[(nr, nc)] = (r,c)\n",
        "          queue.append((nr, nc))\n",
        "\n",
        "  return None\n",
        "\n",
        "path = bfs_maze(maze)\n",
        "print(\"Path from S to G:\", path)"
      ],
      "metadata": {
        "colab": {
          "base_uri": "https://localhost:8080/"
        },
        "id": "z3kP672Vc9PU",
        "outputId": "e285532a-a3fa-4d5f-9921-2e8f8795e567"
      },
      "execution_count": null,
      "outputs": [
        {
          "output_type": "stream",
          "name": "stdout",
          "text": [
            "Path from S to G: [(0, 0), (0, 1), (0, 2), (1, 2), (2, 2), (2, 3), (2, 4), (1, 4), (0, 4)]\n"
          ]
        }
      ]
    },
    {
      "cell_type": "code",
      "source": [
        "import collections\n",
        "\n",
        "\n",
        "word_list = [\"hit\", \"hot\", \"dot\", \"dog\", \"lot\", \"log\", \"cog\"]\n",
        "\n",
        "def bfs_word_transform(start, goal, word_list):\n",
        "    word_set = set(word_list)\n",
        "    queue = collections.deque([[start]])\n",
        "    visited = {start}\n",
        "\n",
        "    while queue:\n",
        "        path = queue.popleft()\n",
        "        word = path[-1]\n",
        "\n",
        "        if word == goal:\n",
        "            return path\n",
        "\n",
        "\n",
        "        for i in range(len(word)):\n",
        "            for c in \"abcdefghijklmnopqrstuvwxyz\":\n",
        "                new_word = word[:i] + c + word[i+1:]\n",
        "                if new_word in word_set and new_word not in visited:\n",
        "                    visited.add(new_word)\n",
        "                    new_path = list(path)\n",
        "                    new_path.append(new_word)\n",
        "                    queue.append(new_path)\n",
        "\n",
        "    return None\n",
        "\n",
        "\n",
        "start_word = \"hit\"\n",
        "end_word = \"cog\"\n",
        "path = bfs_word_transform(start_word, end_word, word_list)\n",
        "\n",
        "print(f\"Path from {start_word} to {end_word}:\", path)\n"
      ],
      "metadata": {
        "colab": {
          "base_uri": "https://localhost:8080/"
        },
        "id": "Ys5AthcNgpbs",
        "outputId": "8b5cc426-4ce1-4f21-96ca-91ca5982e3fe"
      },
      "execution_count": null,
      "outputs": [
        {
          "output_type": "stream",
          "name": "stdout",
          "text": [
            "Path from hit to cog: ['hit', 'hot', 'dot', 'dog', 'cog']\n"
          ]
        }
      ]
    },
    {
      "cell_type": "code",
      "source": [
        "import collections\n",
        "\n",
        "\n",
        "class Node:\n",
        "    def __init__(self, value):\n",
        "        self.value = value\n",
        "        self.left = None\n",
        "        self.right = None\n",
        "\n",
        "def bfs_level_order(root):\n",
        "    if not root:\n",
        "        return []\n",
        "\n",
        "    queue = collections.deque([root])\n",
        "    result = []\n",
        "\n",
        "    while queue:\n",
        "        node = queue.popleft()\n",
        "        result.append(node.value)\n",
        "\n",
        "        if node.left:\n",
        "            queue.append(node.left)\n",
        "        if node.right:\n",
        "            queue.append(node.right)\n",
        "\n",
        "    return result\n",
        "\n",
        "root = Node(1)\n",
        "root.left = Node(2)\n",
        "root.right = Node(3)\n",
        "root.left.left = Node(4)\n",
        "root.left.right = Node(5)\n",
        "root.right.left = Node(6)\n",
        "root.right.right = Node(7)\n",
        "\n",
        "\n",
        "order = bfs_level_order(root)\n",
        "print(\"Level Order Traversal:\", order)\n"
      ],
      "metadata": {
        "colab": {
          "base_uri": "https://localhost:8080/"
        },
        "id": "kz8K2O2TlBKZ",
        "outputId": "c40c35d9-94f8-4341-fee5-8640e3752e77"
      },
      "execution_count": null,
      "outputs": [
        {
          "output_type": "stream",
          "name": "stdout",
          "text": [
            "Level Order Traversal: [1, 2, 3, 4, 5, 6, 7]\n"
          ]
        }
      ]
    },
    {
      "cell_type": "code",
      "source": [
        "\n",
        "graph = {\n",
        "    'A': ['B', 'C'],\n",
        "    'B': ['D', 'E'],\n",
        "    'C': ['F'],\n",
        "    'D': ['G'],\n",
        "    'E': ['G'],\n",
        "    'F': ['G'],\n",
        "    'G': []\n",
        "}\n",
        "\n",
        "def dfs_path(graph, start, goal, path=None, visited=None):\n",
        "    if path is None:\n",
        "        path = [start]\n",
        "    if visited is None:\n",
        "        visited = set()\n",
        "\n",
        "    visited.add(start)\n",
        "\n",
        "    if start == goal:\n",
        "        return path\n",
        "\n",
        "    for neighbor in graph[start]:\n",
        "        if neighbor not in visited:\n",
        "            new_path = dfs_path(graph, neighbor, goal, path + [neighbor], visited)\n",
        "            if new_path:\n",
        "                return new_path\n",
        "\n",
        "    return None\n",
        "\n",
        "start_node = 'A'\n",
        "end_node = 'G'\n",
        "path = dfs_path(graph, start_node, end_node)\n",
        "\n",
        "print(f\"DFS path from {start_node} to {end_node}:\", path)\n"
      ],
      "metadata": {
        "id": "PCx0ux7OtLAU"
      },
      "execution_count": null,
      "outputs": []
    },
    {
      "cell_type": "code",
      "source": [
        "\n",
        "maze = [\n",
        "    ['S', '.', '.', '#', 'G'],\n",
        "    ['#', '#', '.', '#', '.'],\n",
        "    ['.', '.', '.', '.', '.'],\n",
        "    ['.', '#', '#', '#', '.'],\n",
        "    ['.', '.', '.', '.', '.']\n",
        "]\n",
        "\n",
        "rows, cols = len(maze), len(maze[0])\n",
        "directions = [(0,1),(1,0),(0,-1),(-1,0)]  # Right, Down, Left, Up\n",
        "\n",
        "def dfs_maze(maze, start, goal, path=None, visited=None):\n",
        "    if path is None:\n",
        "        path = [start]\n",
        "    if visited is None:\n",
        "        visited = set()\n",
        "\n",
        "    r, c = start\n",
        "    visited.add(start)\n",
        "\n",
        "    if start == goal:\n",
        "        return path\n",
        "\n",
        "    for dr, dc in directions:\n",
        "        nr, nc = r+dr, c+dc\n",
        "        if 0 <= nr < rows and 0 <= nc < cols and maze[nr][nc] != '#':\n",
        "            if (nr, nc) not in visited:\n",
        "                new_path = dfs_maze(maze, (nr, nc), goal, path + [(nr, nc)], visited)\n",
        "                if new_path:\n",
        "                    return new_path\n",
        "\n",
        "    return None\n",
        "\n",
        "\n",
        "start = goal = None\n",
        "for r in range(rows):\n",
        "    for c in range(cols):\n",
        "        if maze[r][c] == 'S':\n",
        "            start = (r, c)\n",
        "        elif maze[r][c] == 'G':\n",
        "            goal = (r, c)\n",
        "\n",
        "path = dfs_maze(maze, start, goal)\n",
        "print(\"DFS path from S to G:\", path)\n"
      ],
      "metadata": {
        "id": "yg9jPZOVxj3b"
      },
      "execution_count": null,
      "outputs": []
    },
    {
      "cell_type": "code",
      "source": [
        "\n",
        "word_list = [\"hit\", \"hot\", \"dot\", \"dog\", \"lot\", \"log\", \"cog\"]\n",
        "\n",
        "def is_neighbor(w1, w2):\n",
        "    \"\"\"Check if two words differ by exactly one letter.\"\"\"\n",
        "    diff = sum(1 for a, b in zip(w1, w2) if a != b)\n",
        "    return diff == 1\n",
        "\n",
        "def dfs_word_transform(start, goal, word_list, path=None, visited=None):\n",
        "    if path is None:\n",
        "        path = [start]\n",
        "    if visited is None:\n",
        "        visited = set()\n",
        "\n",
        "    visited.add(start)\n",
        "\n",
        "    if start == goal:\n",
        "        return path\n",
        "\n",
        "    for word in word_list:\n",
        "        if word not in visited and is_neighbor(start, word):\n",
        "            new_path = dfs_word_transform(word, goal, word_list, path + [word], visited)\n",
        "            if new_path:\n",
        "                return new_path\n",
        "\n",
        "    return None\n",
        "\n",
        "\n",
        "start_word = \"hit\"\n",
        "end_word = \"cog\"\n",
        "path = dfs_word_transform(start_word, end_word, word_list)\n",
        "\n",
        "print(f\"DFS path from {start_word} to {end_word}:\", path)\n"
      ],
      "metadata": {
        "id": "auSPWHOHxnC_"
      },
      "execution_count": null,
      "outputs": []
    },
    {
      "cell_type": "code",
      "source": [
        "\n",
        "\n",
        "class Node:\n",
        "    def __init__(self, value):\n",
        "        self.value = value\n",
        "        self.left = None\n",
        "        self.right = None\n",
        "\n",
        "\n",
        "def preorder(node, result=None):\n",
        "    if result is None:\n",
        "        result = []\n",
        "    if node:\n",
        "        result.append(node.value)\n",
        "        preorder(node.left, result)\n",
        "        preorder(node.right, result)\n",
        "    return result\n",
        "\n",
        "def inorder(node, result=None):\n",
        "    if result is None:\n",
        "        result = []\n",
        "    if node:\n",
        "        inorder(node.left, result)\n",
        "        result.append(node.value)\n",
        "        inorder(node.right, result)\n",
        "    return result\n",
        "\n",
        "def postorder(node, result=None):\n",
        "    if result is None:\n",
        "        result = []\n",
        "    if node:\n",
        "        postorder(node.left, result)\n",
        "        postorder(node.right, result)\n",
        "        result.append(node.value)\n",
        "    return result\n",
        "\n",
        "\n",
        "root = Node(1)\n",
        "root.left = Node(2)\n",
        "root.right = Node(3)\n",
        "root.left.left = Node(4)\n",
        "root.left.right = Node(5)\n",
        "root.right.left = Node(6)\n",
        "root.right.right = Node(7)\n",
        "\n",
        "print(\"Preorder Traversal:\", preorder(root))\n",
        "print(\"Inorder Traversal:\", inorder(root))\n",
        "print(\"Postorder Traversal:\", postorder(root))\n"
      ],
      "metadata": {
        "colab": {
          "base_uri": "https://localhost:8080/"
        },
        "id": "CLQu49YyyhMT",
        "outputId": "d70b67b5-71e3-4940-b95a-86b1671ccbb3"
      },
      "execution_count": null,
      "outputs": [
        {
          "output_type": "stream",
          "name": "stdout",
          "text": [
            "Preorder Traversal: [1, 2, 4, 5, 3, 6, 7]\n",
            "Inorder Traversal: [4, 2, 5, 1, 6, 3, 7]\n",
            "Postorder Traversal: [4, 5, 2, 6, 7, 3, 1]\n"
          ]
        }
      ]
    },
    {
      "cell_type": "code",
      "source": [
        "import heapq\n",
        "\n",
        "graph = {\n",
        "    'A': [('B', 2), ('C', 5)],\n",
        "    'B': [('D', 4), ('E', 1)],\n",
        "    'C': [('F', 2)],\n",
        "    'D': [('G', 2)],\n",
        "    'E': [('G', 3)],\n",
        "    'F': [('G', 1)],\n",
        "    'G': []\n",
        "}\n",
        "\n",
        "def ucs(graph, start, goal):\n",
        "    frontier = [(0, [start])]\n",
        "    visited = {}\n",
        "\n",
        "    while frontier:\n",
        "        cost, path = heapq.heappop(frontier)\n",
        "        node = path[-1]\n",
        "\n",
        "        if node == goal:\n",
        "            return path, cost\n",
        "\n",
        "        if node in visited and visited[node] <= cost:\n",
        "            continue\n",
        "        visited[node] = cost\n",
        "\n",
        "        for neighbor, edge_cost in graph.get(node, []):\n",
        "            new_cost = cost + edge_cost\n",
        "            new_path = path + [neighbor]\n",
        "            heapq.heappush(frontier, (new_cost, new_path))\n",
        "\n",
        "    return None, float(\"inf\")\n",
        "\n",
        "# Run UCS\n",
        "start_node = 'A'\n",
        "end_node = 'G'\n",
        "path, cost = ucs(graph, start_node, end_node)\n",
        "\n",
        "print(f\"UCS path from {start_node} to {end_node}: {path} with total cost {cost}\")\n"
      ],
      "metadata": {
        "id": "cjMmoVwR8He0"
      },
      "execution_count": null,
      "outputs": []
    },
    {
      "cell_type": "code",
      "source": [
        "import heapq\n",
        "\n",
        "\n",
        "word_list = [\"hit\", \"hot\", \"dot\", \"dog\", \"lot\", \"log\", \"cog\"]\n",
        "\n",
        "def is_neighbor(w1, w2):\n",
        "    \"\"\"Check if two words differ by exactly one letter.\"\"\"\n",
        "    diff = sum(1 for a, b in zip(w1, w2) if a != b)\n",
        "    return diff == 1\n",
        "\n",
        "def ucs_word_transform(start, goal, word_list):\n",
        "    word_set = set(word_list)\n",
        "    frontier = [(0, [start])]\n",
        "    visited = {}\n",
        "\n",
        "    while frontier:\n",
        "        cost, path = heapq.heappop(frontier)\n",
        "        word = path[-1]\n",
        "\n",
        "        if word == goal:\n",
        "            return path, cost\n",
        "\n",
        "        if word in visited and visited[word] <= cost:\n",
        "            continue\n",
        "        visited[word] = cost\n",
        "\n",
        "        for neighbor in word_set:\n",
        "            if is_neighbor(word, neighbor) and neighbor not in path:\n",
        "                new_cost = cost + 1  # each step costs 1\n",
        "                new_path = path + [neighbor]\n",
        "                heapq.heappush(frontier, (new_cost, new_path))\n",
        "\n",
        "    return None, float(\"inf\")\n",
        "\n",
        "\n",
        "start_word = \"hit\"\n",
        "end_word = \"cog\"\n",
        "path, cost = ucs_word_transform(start_word, end_word, word_list)\n",
        "\n",
        "print(f\"UCS path from {start_word} to {end_word}:\", path)\n",
        "print(\"Total path cost:\", cost)\n"
      ],
      "metadata": {
        "id": "iYlWHHBH8HXw"
      },
      "execution_count": null,
      "outputs": []
    }
  ]
}